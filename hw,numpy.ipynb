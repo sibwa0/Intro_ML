{
  "cells": [
    {
      "cell_type": "markdown",
      "id": "96443564",
      "metadata": {
        "id": "96443564"
      },
      "source": [
        "#### 1. Импортируйте пакет numpy под именем `np` (★☆☆)"
      ]
    },
    {
      "cell_type": "code",
      "execution_count": 2,
      "id": "ffe1047e",
      "metadata": {
        "id": "ffe1047e"
      },
      "outputs": [],
      "source": [
        "import numpy as np"
      ]
    },
    {
      "cell_type": "markdown",
      "id": "572c1bdb",
      "metadata": {
        "id": "572c1bdb"
      },
      "source": [
        "#### 2. Создайте нулевой вектор размера 10 (★☆☆)"
      ]
    },
    {
      "cell_type": "code",
      "execution_count": 5,
      "id": "31c9f6a5",
      "metadata": {
        "id": "31c9f6a5"
      },
      "outputs": [],
      "source": [
        "a = np.zeros(10)"
      ]
    },
    {
      "cell_type": "markdown",
      "id": "337e6e36",
      "metadata": {
        "id": "337e6e36"
      },
      "source": [
        "#### 3. Как узнать объем памяти любого массива (★☆☆)"
      ]
    },
    {
      "cell_type": "code",
      "execution_count": 6,
      "id": "31e8ec2e",
      "metadata": {
        "id": "31e8ec2e"
      },
      "outputs": [
        {
          "data": {
            "text/plain": [
              "80"
            ]
          },
          "execution_count": 6,
          "metadata": {},
          "output_type": "execute_result"
        }
      ],
      "source": [
        "a.nbytes"
      ]
    },
    {
      "cell_type": "markdown",
      "id": "cfc46304",
      "metadata": {
        "id": "cfc46304"
      },
      "source": [
        "#### 4. Создайте вектор со значениями от 10 до 49. (★☆☆)"
      ]
    },
    {
      "cell_type": "code",
      "execution_count": 7,
      "id": "d8b86640",
      "metadata": {
        "id": "d8b86640"
      },
      "outputs": [
        {
          "data": {
            "text/plain": [
              "array([10, 11, 12, 13, 14, 15, 16, 17, 18, 19, 20, 21, 22, 23, 24, 25, 26,\n",
              "       27, 28, 29, 30, 31, 32, 33, 34, 35, 36, 37, 38, 39, 40, 41, 42, 43,\n",
              "       44, 45, 46, 47, 48, 49])"
            ]
          },
          "execution_count": 7,
          "metadata": {},
          "output_type": "execute_result"
        }
      ],
      "source": [
        "np.array(np.arange(10, 50, 1))"
      ]
    },
    {
      "cell_type": "markdown",
      "id": "0cc200be",
      "metadata": {
        "id": "0cc200be"
      },
      "source": [
        "#### 5. Создайте обратный вектор из вектора в задании 4 (первый элемент становится последним) (★☆☆)"
      ]
    },
    {
      "cell_type": "code",
      "execution_count": 8,
      "id": "ec044bb5",
      "metadata": {
        "id": "ec044bb5"
      },
      "outputs": [
        {
          "data": {
            "text/plain": [
              "array([49, 48, 47, 46, 45, 44, 43, 42, 41, 40, 39, 38, 37, 36, 35, 34, 33,\n",
              "       32, 31, 30, 29, 28, 27, 26, 25, 24, 23, 22, 21, 20, 19, 18, 17, 16,\n",
              "       15, 14, 13, 12, 11, 10])"
            ]
          },
          "execution_count": 8,
          "metadata": {},
          "output_type": "execute_result"
        }
      ],
      "source": [
        "np.array(np.arange(10, 50, 1))[::-1]"
      ]
    },
    {
      "cell_type": "markdown",
      "id": "29d9ede4",
      "metadata": {
        "id": "29d9ede4"
      },
      "source": [
        "#### 6. Создайте матрицу 3x3 со значениями от 0 до 8. (★☆☆)"
      ]
    },
    {
      "cell_type": "code",
      "execution_count": 9,
      "id": "d9e39043",
      "metadata": {
        "id": "d9e39043"
      },
      "outputs": [
        {
          "data": {
            "text/plain": [
              "array([[0, 1, 2],\n",
              "       [3, 4, 5],\n",
              "       [6, 7, 8]])"
            ]
          },
          "execution_count": 9,
          "metadata": {},
          "output_type": "execute_result"
        }
      ],
      "source": [
        "np.arange(9).reshape(3,3)"
      ]
    },
    {
      "cell_type": "markdown",
      "id": "88905ceb",
      "metadata": {
        "id": "88905ceb"
      },
      "source": [
        "#### 7. Найти индексы ненулевых элементов из [1,2,0,0,4,0 (★☆☆)"
      ]
    },
    {
      "cell_type": "code",
      "execution_count": 16,
      "id": "b2f3c90a",
      "metadata": {
        "id": "b2f3c90a"
      },
      "outputs": [
        {
          "data": {
            "text/plain": [
              "(array([0, 1, 4]),)"
            ]
          },
          "execution_count": 16,
          "metadata": {},
          "output_type": "execute_result"
        }
      ],
      "source": [
        "a = np.array([1, 2, 0, 0, 4, 0])\n",
        "a.nonzero()"
      ]
    },
    {
      "cell_type": "markdown",
      "id": "e15c249a",
      "metadata": {
        "id": "e15c249a"
      },
      "source": [
        "#### 8. Создайте массив 3x3x3 со случайными значениями (★☆☆)"
      ]
    },
    {
      "cell_type": "code",
      "execution_count": 24,
      "id": "ab21ed50",
      "metadata": {
        "id": "ab21ed50"
      },
      "outputs": [
        {
          "data": {
            "text/plain": [
              "array([[[0.06679595, 0.64881532, 0.32753414],\n",
              "        [0.5340267 , 0.13342766, 0.22169019],\n",
              "        [0.74279166, 0.17449861, 0.81381333]],\n",
              "\n",
              "       [[0.44967776, 0.19202068, 0.4740795 ],\n",
              "        [0.08993763, 0.38397331, 0.37129372],\n",
              "        [0.80981844, 0.23797912, 0.26888078]],\n",
              "\n",
              "       [[0.48033573, 0.2540379 , 0.04192087],\n",
              "        [0.51675621, 0.50280243, 0.55100885],\n",
              "        [0.63124212, 0.9459285 , 0.62993293]]])"
            ]
          },
          "execution_count": 24,
          "metadata": {},
          "output_type": "execute_result"
        }
      ],
      "source": [
        "np.random.rand(3,3,3)"
      ]
    },
    {
      "cell_type": "markdown",
      "id": "157a129c",
      "metadata": {
        "id": "157a129c"
      },
      "source": [
        "#### 9. Создайте массив 10x10 со случайными значениями и найдите минимальное и максимальное значения. (★☆☆)"
      ]
    },
    {
      "cell_type": "code",
      "execution_count": 26,
      "id": "c0066de5",
      "metadata": {
        "id": "c0066de5"
      },
      "outputs": [
        {
          "data": {
            "text/plain": [
              "(0.014094785573832591, 0.9810509283487785)"
            ]
          },
          "execution_count": 26,
          "metadata": {},
          "output_type": "execute_result"
        }
      ],
      "source": [
        "a = np.random.rand(10,10)\n",
        "a.min(), a.max()"
      ]
    },
    {
      "cell_type": "markdown",
      "id": "d92d7b32",
      "metadata": {
        "id": "d92d7b32"
      },
      "source": [
        "#### 10. Создайте случайный вектор размера 30 и найдите среднее значение(★☆☆)"
      ]
    },
    {
      "cell_type": "code",
      "execution_count": 30,
      "id": "9672d023",
      "metadata": {
        "id": "9672d023"
      },
      "outputs": [
        {
          "data": {
            "text/plain": [
              "0.47539366436231584"
            ]
          },
          "execution_count": 30,
          "metadata": {},
          "output_type": "execute_result"
        }
      ],
      "source": [
        "a = np.random.rand(30)\n",
        "a.mean()"
      ]
    },
    {
      "cell_type": "markdown",
      "id": "f361efc0",
      "metadata": {
        "id": "f361efc0"
      },
      "source": [
        "#### 11. Создайте массив 2d 2x3 c 1 на границе и 0 внутри (★☆☆)"
      ]
    },
    {
      "cell_type": "code",
      "execution_count": 5,
      "id": "a55b6666",
      "metadata": {
        "id": "a55b6666"
      },
      "outputs": [
        {
          "data": {
            "text/plain": [
              "array([[1., 1., 1., 1., 1.],\n",
              "       [1., 0., 0., 0., 1.],\n",
              "       [1., 0., 0., 0., 1.],\n",
              "       [1., 0., 0., 0., 1.],\n",
              "       [1., 1., 1., 1., 1.]])"
            ]
          },
          "execution_count": 5,
          "metadata": {},
          "output_type": "execute_result"
        }
      ],
      "source": [
        "a = np.ones((5, 5))\n",
        "a[1:-1, 1:-1] = 0\n",
        "a"
      ]
    },
    {
      "cell_type": "markdown",
      "id": "1af07d85",
      "metadata": {
        "id": "1af07d85"
      },
      "source": [
        "#### 12. Каков результат следующего выражения? (★☆☆)\n",
        "```python\n",
        "0 * np.nan\n",
        "np.nan == np.nan\n",
        "np.inf > np.nan\n",
        "np.nan - np.nan\n",
        "np.nan in set([np.nan])\n",
        "0.3 == 3 * 0.1\n",
        "```"
      ]
    },
    {
      "cell_type": "code",
      "execution_count": 32,
      "id": "109cf327",
      "metadata": {
        "id": "109cf327"
      },
      "outputs": [
        {
          "name": "stdout",
          "output_type": "stream",
          "text": [
            "nan\n",
            "False\n",
            "False\n",
            "nan\n",
            "True\n",
            "False\n"
          ]
        }
      ],
      "source": [
        "print(0 * np.nan)\n",
        "print(np.nan == np.nan)\n",
        "print(np.inf > np.nan)\n",
        "print(np.nan - np.nan)\n",
        "print(np.nan in set([np.nan]))\n",
        "print(0.3 == 3 * 0.1)"
      ]
    },
    {
      "cell_type": "markdown",
      "id": "6431e977",
      "metadata": {
        "id": "6431e977"
      },
      "source": [
        "#### 13. Рассмотрим массив размера (6,7,8). Каков индекс (x,y,z) 100-го элемента? (★☆☆)"
      ]
    },
    {
      "cell_type": "code",
      "execution_count": 7,
      "id": "de8b0245",
      "metadata": {
        "id": "de8b0245"
      },
      "outputs": [
        {
          "name": "stdout",
          "output_type": "stream",
          "text": [
            "(array([1]), array([5]), array([3]))\n"
          ]
        },
        {
          "data": {
            "text/plain": [
              "99"
            ]
          },
          "execution_count": 7,
          "metadata": {},
          "output_type": "execute_result"
        }
      ],
      "source": [
        "b = np.arange(6 * 7 * 8).reshape((6, 7, 8))\n",
        "print(np.where(b == 99))\n",
        "b[1][5][3]"
      ]
    },
    {
      "cell_type": "markdown",
      "id": "06c63bb3",
      "metadata": {
        "id": "06c63bb3"
      },
      "source": [
        "#### 14. Умножить матрицу 5x3 на матрицу 3x2(★☆☆)"
      ]
    },
    {
      "cell_type": "code",
      "execution_count": 52,
      "id": "9fc0d553",
      "metadata": {
        "id": "9fc0d553"
      },
      "outputs": [
        {
          "data": {
            "text/plain": [
              "array([[0.28916846, 0.86337536],\n",
              "       [0.27127343, 1.05807306],\n",
              "       [0.67691082, 1.02660299],\n",
              "       [0.58100111, 0.74985171],\n",
              "       [0.32108404, 0.62815822]])"
            ]
          },
          "execution_count": 52,
          "metadata": {},
          "output_type": "execute_result"
        }
      ],
      "source": [
        "np.random.rand(5,3) @ np.random.rand(3,2)"
      ]
    },
    {
      "cell_type": "markdown",
      "id": "76fa6285",
      "metadata": {
        "id": "76fa6285"
      },
      "source": [
        "#### 15. Создайте одномерный массив со случайными значениями от 1 до 10, инвертируйте (поменяйте местами) все элементы, со значениями 3 и 8. (★☆☆)"
      ]
    },
    {
      "cell_type": "code",
      "execution_count": 60,
      "id": "0e25eca7",
      "metadata": {
        "id": "0e25eca7"
      },
      "outputs": [
        {
          "name": "stdout",
          "output_type": "stream",
          "text": [
            "[7 2 5 3 8 8 5 1 8 7]\n",
            "[7 2 5 8 3 3 5 1 3 7]\n"
          ]
        }
      ],
      "source": [
        "a = np.random.randint(1, 11, 10)\n",
        "print(a)\n",
        "for i in np.arange(a.size):\n",
        "    if a[i] == 8:\n",
        "        a[i] = 3\n",
        "    elif a[i] == 3:\n",
        "        a[i] = 8\n",
        "print(a)"
      ]
    },
    {
      "cell_type": "code",
      "execution_count": 73,
      "id": "0af87c8b",
      "metadata": {},
      "outputs": [
        {
          "name": "stdout",
          "output_type": "stream",
          "text": [
            "[2 2 9 5 2 7 3 3 3 5]\n",
            "[2 2 9 5 2 7 8 8 8 5]\n"
          ]
        }
      ],
      "source": [
        "a = np.random.randint(1, 11, 10)\n",
        "print(a)\n",
        "i8, i3 = np.where(a == 8), np.where(a == 3)\n",
        "a[i8] = 3\n",
        "a[i3] = 8\n",
        "print(a) "
      ]
    },
    {
      "cell_type": "markdown",
      "id": "a6eaf0e8",
      "metadata": {
        "id": "a6eaf0e8"
      },
      "source": [
        "#### 16. Каков результат следующих выражений? (★☆☆)\n",
        "```python\n",
        "np.array(0) / np.array(0)\n",
        "np.array(0) // np.array(0)\n",
        "np.array([np.nan]).astype(int).astype(float)\n",
        "```"
      ]
    },
    {
      "cell_type": "code",
      "execution_count": 78,
      "id": "93684068",
      "metadata": {
        "id": "93684068"
      },
      "outputs": [
        {
          "name": "stdout",
          "output_type": "stream",
          "text": [
            "nan\n",
            "0\n",
            "[-9.22337204e+18]\n"
          ]
        },
        {
          "name": "stderr",
          "output_type": "stream",
          "text": [
            "/tmp/ipykernel_2057/3912170336.py:1: RuntimeWarning: invalid value encountered in divide\n",
            "  print(np.array(0) / np.array(0))\n",
            "/tmp/ipykernel_2057/3912170336.py:2: RuntimeWarning: divide by zero encountered in floor_divide\n",
            "  print(np.array(0) // np.array(0))\n"
          ]
        }
      ],
      "source": [
        "print(np.array(0) / np.array(0))\n",
        "print(np.array(0) // np.array(0))\n",
        "print(np.array([np.nan]).astype(int).astype(float))"
      ]
    },
    {
      "cell_type": "markdown",
      "id": "8dc40752",
      "metadata": {
        "id": "8dc40752"
      },
      "source": [
        "#### 17. Как найти общие значения между двумя массивами? (★☆☆)"
      ]
    },
    {
      "cell_type": "code",
      "execution_count": 9,
      "id": "54399cbe",
      "metadata": {
        "id": "54399cbe"
      },
      "outputs": [
        {
          "name": "stdout",
          "output_type": "stream",
          "text": [
            "[0 2]\n",
            "[0 2]\n"
          ]
        }
      ],
      "source": [
        "a = np.array([0, 1, 2])\n",
        "b = np.array([0, 3, 2])\n",
        "print(a[a == b])\n",
        "print(np.intersect1d(a, b))"
      ]
    },
    {
      "cell_type": "markdown",
      "id": "52667b6e",
      "metadata": {
        "id": "52667b6e"
      },
      "source": [
        "#### 18. Как вычислить ((A+B)*(-A/2)) с заменой массива А (без копирования)? (★★☆)"
      ]
    },
    {
      "cell_type": "code",
      "execution_count": 19,
      "id": "e6e7c030",
      "metadata": {
        "id": "e6e7c030"
      },
      "outputs": [
        {
          "name": "stdout",
          "output_type": "stream",
          "text": [
            "[0. 1. 2.] [0. 4. 4.]\n",
            "[0.  0.5 1. ] [0. 4. 4.]\n",
            "[-0.  -0.5 -1. ] [0. 4. 4.]\n",
            "[-0. -2. -4.] [0. 4. 4.]\n"
          ]
        }
      ],
      "source": [
        "a = np.array([0, 1, 2]).astype(float)\n",
        "b = np.array([0, 3, 2]).astype(float)\n",
        "\n",
        "np.add(a, b, out=b)\n",
        "print(a, b)\n",
        "np.divide(a, 2, out=a)\n",
        "print(a, b)\n",
        "np.negative(a, out=a)\n",
        "print(a, b)\n",
        "np.multiply(a, b, out=a)\n",
        "print(a, b)"
      ]
    },
    {
      "cell_type": "markdown",
      "id": "cab1eed1",
      "metadata": {
        "id": "cab1eed1"
      },
      "source": [
        "#### 19. Создайте матрицу 5x5 со значениями строк от 0 до 4. (★★☆)"
      ]
    },
    {
      "cell_type": "code",
      "execution_count": 18,
      "id": "f1b579ba",
      "metadata": {
        "id": "f1b579ba"
      },
      "outputs": [
        {
          "data": {
            "text/plain": [
              "array([[0, 1, 2, 3, 4],\n",
              "       [0, 1, 2, 3, 4],\n",
              "       [0, 1, 2, 3, 4],\n",
              "       [0, 1, 2, 3, 4],\n",
              "       [0, 1, 2, 3, 4]])"
            ]
          },
          "execution_count": 18,
          "metadata": {},
          "output_type": "execute_result"
        }
      ],
      "source": [
        "np.tile(np.array(np.arange(5)), 5).reshape(5,5)"
      ]
    },
    {
      "cell_type": "markdown",
      "id": "c4c942d1",
      "metadata": {
        "id": "c4c942d1"
      },
      "source": [
        "#### 20. Создайте вектор размера 10 со значениями в диапазоне от 0 до 1, исключая 1 и 0 (★★☆)"
      ]
    },
    {
      "cell_type": "code",
      "execution_count": 22,
      "id": "e42eaa4b",
      "metadata": {
        "id": "e42eaa4b"
      },
      "outputs": [
        {
          "data": {
            "text/plain": [
              "array([0.09090909, 0.18181818, 0.27272727, 0.36363636, 0.45454545,\n",
              "       0.54545455, 0.63636364, 0.72727273, 0.81818182, 0.90909091])"
            ]
          },
          "execution_count": 22,
          "metadata": {},
          "output_type": "execute_result"
        }
      ],
      "source": [
        "np.linspace(0, 1, 12)[1:-1]"
      ]
    },
    {
      "cell_type": "markdown",
      "id": "9b3cb8d2",
      "metadata": {
        "id": "9b3cb8d2"
      },
      "source": [
        "#### 21. Создайте случайный вектор размера 10 и отсортируйте его (★★☆)"
      ]
    },
    {
      "cell_type": "code",
      "execution_count": 28,
      "id": "37d2b341",
      "metadata": {
        "id": "37d2b341"
      },
      "outputs": [
        {
          "data": {
            "text/plain": [
              "array([13, 14, 23, 26, 31, 38, 61, 67, 73, 74])"
            ]
          },
          "execution_count": 28,
          "metadata": {},
          "output_type": "execute_result"
        }
      ],
      "source": [
        "np.sort(np.random.randint(0, 100, 10))"
      ]
    },
    {
      "cell_type": "markdown",
      "id": "2facfddc",
      "metadata": {
        "id": "2facfddc"
      },
      "source": [
        "#### 22. Можно ли суммировать небольшой массив быстрее, чем np.sum? (★★☆)"
      ]
    },
    {
      "cell_type": "code",
      "execution_count": 12,
      "id": "16ccd981",
      "metadata": {},
      "outputs": [],
      "source": [
        "a = np.arange(10)"
      ]
    },
    {
      "cell_type": "code",
      "execution_count": 13,
      "id": "4bb8864f",
      "metadata": {
        "id": "4bb8864f"
      },
      "outputs": [
        {
          "name": "stdout",
          "output_type": "stream",
          "text": [
            "CPU times: user 33 µs, sys: 15 µs, total: 48 µs\n",
            "Wall time: 53.4 µs\n"
          ]
        },
        {
          "data": {
            "text/plain": [
              "45"
            ]
          },
          "execution_count": 13,
          "metadata": {},
          "output_type": "execute_result"
        }
      ],
      "source": [
        "%%time\n",
        "np.add.accumulate(a)[-1]"
      ]
    },
    {
      "cell_type": "code",
      "execution_count": 14,
      "id": "4b31d1a9",
      "metadata": {},
      "outputs": [
        {
          "name": "stdout",
          "output_type": "stream",
          "text": [
            "CPU times: user 56 µs, sys: 26 µs, total: 82 µs\n",
            "Wall time: 86.5 µs\n"
          ]
        },
        {
          "data": {
            "text/plain": [
              "45"
            ]
          },
          "execution_count": 14,
          "metadata": {},
          "output_type": "execute_result"
        }
      ],
      "source": [
        "%%time\n",
        "np.sum(a)"
      ]
    },
    {
      "cell_type": "markdown",
      "id": "539cd2a5",
      "metadata": {
        "id": "539cd2a5"
      },
      "source": [
        "#### 23. Рассмотрим два случайных массива A и B, проверьте, равны ли они(★★☆)"
      ]
    },
    {
      "cell_type": "code",
      "execution_count": 29,
      "id": "5246d7bf",
      "metadata": {
        "id": "5246d7bf"
      },
      "outputs": [
        {
          "data": {
            "text/plain": [
              "array([ True, False,  True])"
            ]
          },
          "execution_count": 29,
          "metadata": {},
          "output_type": "execute_result"
        }
      ],
      "source": [
        "a = np.array([0, 1, 2])\n",
        "b = np.array([0, 3, 2])\n",
        "\n",
        "a == b"
      ]
    },
    {
      "cell_type": "markdown",
      "id": "a556027a",
      "metadata": {
        "id": "a556027a"
      },
      "source": [
        "#### 24. Создайте случайный вектор размера 10 и замените максимальное значение на 0 (★★☆)"
      ]
    },
    {
      "cell_type": "code",
      "execution_count": 11,
      "id": "9e07cb87",
      "metadata": {
        "id": "9e07cb87"
      },
      "outputs": [
        {
          "name": "stdout",
          "output_type": "stream",
          "text": [
            "[ 0.81590308 -0.83868554 -0.42167042  0.9583928   1.37278935 -0.97695453\n",
            " -1.34453573  0.51942579 -1.65497734 -0.07259466]\n"
          ]
        },
        {
          "data": {
            "text/plain": [
              "array([ 0.81590308, -0.83868554, -0.42167042,  0.9583928 ,  0.        ,\n",
              "       -0.97695453, -1.34453573,  0.51942579, -1.65497734, -0.07259466])"
            ]
          },
          "execution_count": 11,
          "metadata": {},
          "output_type": "execute_result"
        }
      ],
      "source": [
        "a = np.random.randn(10)\n",
        "print(a)\n",
        "a[a.argmax()] = 0\n",
        "a"
      ]
    },
    {
      "cell_type": "markdown",
      "id": "c8a2f65a",
      "metadata": {
        "id": "c8a2f65a"
      },
      "source": [
        "#### 25. Распечатайте минимальное и максимальное представимое значение для каждого скалярного типа numpy (★★☆)"
      ]
    },
    {
      "cell_type": "code",
      "execution_count": 20,
      "id": "35d844d6",
      "metadata": {
        "id": "35d844d6"
      },
      "outputs": [
        {
          "name": "stdout",
          "output_type": "stream",
          "text": [
            "<class 'numpy.int8'>\n",
            "-128\n",
            "127\n",
            "\n",
            "<class 'numpy.int16'>\n",
            "-32768\n",
            "32767\n",
            "\n",
            "<class 'numpy.int32'>\n",
            "-2147483648\n",
            "2147483647\n",
            "\n",
            "<class 'numpy.int64'>\n",
            "-9223372036854775808\n",
            "9223372036854775807\n",
            "\n",
            "<class 'numpy.float16'>\n",
            "-65500.0\n",
            "65500.0\n",
            "0.000977\n",
            "\n",
            "<class 'numpy.float32'>\n",
            "-3.4028235e+38\n",
            "3.4028235e+38\n",
            "1.1920929e-07\n",
            "\n",
            "<class 'numpy.float64'>\n",
            "-1.7976931348623157e+308\n",
            "1.7976931348623157e+308\n",
            "2.220446049250313e-16\n",
            "\n",
            "<class 'numpy.float128'>\n",
            "-1.189731495357231765e+4932\n",
            "1.189731495357231765e+4932\n",
            "1.084202172485504434e-19\n",
            "\n"
          ]
        }
      ],
      "source": [
        "for dtype in [np.int8, np.int16, np.int32, np.int64]:\n",
        "    print(dtype)\n",
        "    print(np.iinfo(dtype).min)\n",
        "    print(np.iinfo(dtype).max, end=\"\\n\\n\")\n",
        "for dtype in [np.float16, np.float32, np.float64, np.float128]:\n",
        "    print(dtype)\n",
        "    print(np.finfo(dtype).min)\n",
        "    print(np.finfo(dtype).max)\n",
        "    print(np.finfo(dtype).eps, end=\"\\n\\n\")\n",
        "    "
      ]
    },
    {
      "cell_type": "markdown",
      "id": "11727a69",
      "metadata": {
        "id": "11727a69"
      },
      "source": [
        "#### 26. Как вывести все значения большого массива? (★★☆)"
      ]
    },
    {
      "cell_type": "code",
      "execution_count": 67,
      "id": "47e98473",
      "metadata": {
        "id": "47e98473"
      },
      "outputs": [
        {
          "name": "stdout",
          "output_type": "stream",
          "text": [
            "[[-1.478 -2.095 -1.107 ...  0.469  0.738 -1.643]\n",
            " [ 1.317 -1.123  0.614 ...  0.179  0.853 -0.924]\n",
            " [-0.769  1.42  -0.826 ... -0.79  -0.85  -0.069]\n",
            " ...\n",
            " [-0.282 -1.601 -0.901 ... -0.695  0.195  0.478]\n",
            " [-0.133 -1.416 -1.449 ... -0.734 -2.173 -0.147]\n",
            " [ 0.428  0.498  1.897 ... -0.366 -0.967  1.131]]\n"
          ]
        }
      ],
      "source": [
        "from pickletools import float8\n",
        "\n",
        "a = np.random.randn(50, 50)\n",
        "np.set_printoptions(\n",
        "    precision=3,\n",
        "    edgeitems=3,\n",
        "    sign=\"-\",\n",
        "    linewidth=100\n",
        ")\n",
        "print(a)"
      ]
    },
    {
      "cell_type": "markdown",
      "id": "d22b8574",
      "metadata": {
        "id": "d22b8574"
      },
      "source": [
        "#### 27. Рассмотрим случайный вектор формы (100,2), представляющий координаты, найдите расстояния между точками. (★★☆)"
      ]
    },
    {
      "cell_type": "code",
      "execution_count": 42,
      "id": "d5c9cdf8",
      "metadata": {
        "id": "d5c9cdf8"
      },
      "outputs": [
        {
          "data": {
            "text/plain": [
              "array([[0.        , 1.18869565, 2.21718463, ..., 1.90188883, 2.57784126,\n",
              "        1.90534413],\n",
              "       [1.18869565, 0.        , 1.24411196, ..., 0.90920387, 1.59058083,\n",
              "        3.08227792],\n",
              "       [2.21718463, 1.24411196, 0.        , ..., 0.33654597, 0.36173385,\n",
              "        3.93094428],\n",
              "       ...,\n",
              "       [1.90188883, 0.90920387, 0.33654597, ..., 0.        , 0.69299187,\n",
              "        3.6607355 ],\n",
              "       [2.57784126, 1.59058083, 0.36173385, ..., 0.69299187, 0.        ,\n",
              "        4.2706527 ],\n",
              "       [1.90534413, 3.08227792, 3.93094428, ..., 3.6607355 , 4.2706527 ,\n",
              "        0.        ]])"
            ]
          },
          "execution_count": 42,
          "metadata": {},
          "output_type": "execute_result"
        }
      ],
      "source": [
        "a = np.random.randn(100, 2)\n",
        "\n",
        "x = a[:,0].reshape(1, -1)\n",
        "y = a[:,1].reshape(1, -1)\n",
        "\n",
        "np.sqrt( (x - x.T)**2 + (y - y.T)**2)"
      ]
    },
    {
      "cell_type": "markdown",
      "id": "f5c164f2",
      "metadata": {
        "id": "f5c164f2"
      },
      "source": [
        "#### 28. Как преобразовать массив с плавающей запятой (32 бита) в целое число (32 бита) с заменой?"
      ]
    },
    {
      "cell_type": "code",
      "execution_count": 89,
      "id": "ea262de8",
      "metadata": {
        "id": "ea262de8"
      },
      "outputs": [
        {
          "name": "stdout",
          "output_type": "stream",
          "text": [
            "[0. 1. 2. ... 7. 8. 9.]\n"
          ]
        },
        {
          "data": {
            "text/plain": [
              "array([0, 1, 2, ..., 7, 8, 9], dtype=int32)"
            ]
          },
          "execution_count": 89,
          "metadata": {},
          "output_type": "execute_result"
        }
      ],
      "source": [
        "a = np.arange(10, dtype=np.float32)\n",
        "print(a)\n",
        "a = a.astype(np.int32)\n",
        "a\n"
      ]
    },
    {
      "cell_type": "markdown",
      "id": "a8b7e6f5",
      "metadata": {
        "id": "a8b7e6f5"
      },
      "source": [
        "#### 29. Создайте массив из следующего файла: (★★☆)\n",
        "```\n",
        "1, 2, 3, 4, 5\n",
        "6,  ,  , 7, 8\n",
        " ,  , 9,10,11\n",
        "```"
      ]
    },
    {
      "cell_type": "code",
      "execution_count": 91,
      "id": "bde0538a",
      "metadata": {
        "id": "bde0538a"
      },
      "outputs": [
        {
          "data": {
            "text/plain": [
              "array([[ 1.,  2.,  3.,  4.,  5.],\n",
              "       [ 6., nan, nan,  7.,  8.],\n",
              "       [nan, nan,  9., 10., 11.]])"
            ]
          },
          "execution_count": 91,
          "metadata": {},
          "output_type": "execute_result"
        }
      ],
      "source": [
        "a = np.genfromtxt(\"29.txt\", delimiter=\",\")\n",
        "a"
      ]
    },
    {
      "cell_type": "markdown",
      "id": "bfd2513c",
      "metadata": {
        "id": "bfd2513c"
      },
      "source": [
        "#### 30. Вычтите среднее значение каждой строки случайной матрицы. (★★☆)"
      ]
    },
    {
      "cell_type": "code",
      "execution_count": 16,
      "id": "f306ab72",
      "metadata": {
        "id": "f306ab72"
      },
      "outputs": [
        {
          "data": {
            "text/plain": [
              "array([[-0.5,  0.5],\n",
              "       [-0.5,  0.5],\n",
              "       [-0.5,  0.5],\n",
              "       [-0.5,  0.5],\n",
              "       [-0.5,  0.5]])"
            ]
          },
          "execution_count": 16,
          "metadata": {},
          "output_type": "execute_result"
        }
      ],
      "source": [
        "a = np.arange(10).reshape(5, -1)\n",
        "# print(a)\n",
        "# print(a.mean(axis=1, keepdims=True).shape)\n",
        "a - a.mean(axis=1, keepdims=True)"
      ]
    },
    {
      "cell_type": "markdown",
      "id": "f30162d2",
      "metadata": {
        "id": "f30162d2"
      },
      "source": [
        "#### 31. Рассмотрим случайный вектор, как добавить 1 к каждому элементу, индексированному вторым вектором (будьте осторожны с повторяющимися индексами)? (★★★)"
      ]
    },
    {
      "cell_type": "code",
      "execution_count": 32,
      "id": "093ba36f",
      "metadata": {
        "id": "093ba36f"
      },
      "outputs": [
        {
          "name": "stdout",
          "output_type": "stream",
          "text": [
            "[3. 1. 1. 4. 2. 2. 1. 3. 0. 3.] 20.0\n"
          ]
        }
      ],
      "source": [
        "a = np.zeros(10)\n",
        "index = np.random.randint(0, len(a), 20)\n",
        "a += np.bincount(index)\n",
        "print(a, np.sum(a))"
      ]
    },
    {
      "cell_type": "markdown",
      "id": "f5b1c584",
      "metadata": {
        "id": "f5b1c584"
      },
      "source": [
        "#### 32. Как перенести элементы вектора (X) в массив (F) на основе списка индексов (I)? (★★★)"
      ]
    },
    {
      "cell_type": "code",
      "execution_count": 73,
      "id": "c9d92a75",
      "metadata": {
        "id": "c9d92a75"
      },
      "outputs": [
        {
          "name": "stdout",
          "output_type": "stream",
          "text": [
            "f=array([4, 2, 2, 2, 4])\n",
            "x=array([3, 1, 0, 2, 3])\n",
            "i=array([0, 3])\n",
            "f=array([3, 2, 2, 2, 4])\n"
          ]
        }
      ],
      "source": [
        "x = np.random.randint(0, 5, 5)\n",
        "f = np.random.randint(0, 5, 5)\n",
        "\n",
        "print(f\"{f=}\")\n",
        "print(f\"{x=}\")\n",
        "\n",
        "i = np.unique(np.random.randint(0, 5, 2))\n",
        "\n",
        "print(f\"{i=}\")\n",
        "\n",
        "f[i] = x[i]\n",
        "\n",
        "print(f\"{f=}\")"
      ]
    },
    {
      "cell_type": "markdown",
      "id": "4bddeb31",
      "metadata": {
        "id": "4bddeb31"
      },
      "source": [
        "#### 33. Рассматривая четырехмерный массив, как получить сумму сразу (в одну операцию) по двум последним осям? (★★★)"
      ]
    },
    {
      "cell_type": "code",
      "execution_count": 24,
      "id": "32af15f5",
      "metadata": {
        "id": "32af15f5"
      },
      "outputs": [
        {
          "name": "stdout",
          "output_type": "stream",
          "text": [
            "[[[[3 2 4]\n",
            "   [4 3 4]]\n",
            "\n",
            "  [[1 2 3]\n",
            "   [0 1 3]]\n",
            "\n",
            "  [[0 3 1]\n",
            "   [4 3 2]]]\n",
            "\n",
            "\n",
            " [[[0 4 2]\n",
            "   [2 0 4]]\n",
            "\n",
            "  [[2 3 0]\n",
            "   [2 4 3]]\n",
            "\n",
            "  [[4 1 4]\n",
            "   [1 1 2]]]]\n"
          ]
        },
        {
          "data": {
            "text/plain": [
              "array([[20, 10, 13],\n",
              "       [12, 14, 13]])"
            ]
          },
          "execution_count": 24,
          "metadata": {},
          "output_type": "execute_result"
        }
      ],
      "source": [
        "a = np.random.randint(0, 5, (2, 3, 2, 3))\n",
        "print(a)\n",
        "a.sum(axis=(-2,-1))"
      ]
    },
    {
      "cell_type": "markdown",
      "id": "de727a7b",
      "metadata": {
        "id": "de727a7b"
      },
      "source": [
        "#### 34. Рассмотрим вектор [1, 2, 3, 4, 5], как построить новый вектор с 3 последовательными нулями, чередующимися между каждым значением? (★★★)"
      ]
    },
    {
      "cell_type": "code",
      "execution_count": 65,
      "id": "982be812",
      "metadata": {
        "id": "982be812"
      },
      "outputs": [
        {
          "name": "stdout",
          "output_type": "stream",
          "text": [
            "[[1. 0. 0. 0.]\n",
            " [2. 0. 0. 0.]\n",
            " [3. 0. 0. 0.]\n",
            " [4. 0. 0. 0.]\n",
            " [5. 0. 0. 0.]]\n",
            "[1 0 0 0 2 0 0 0 3 0 0 0 4 0 0 0 5]\n"
          ]
        }
      ],
      "source": [
        "a = np.arange(1, 6)\n",
        "zeros = np.zeros((a.shape[0], 3))\n",
        "stacked = np.hstack((a.reshape(5, 1), zeros))\n",
        "print(stacked)\n",
        "print(stacked.reshape(-1)[:-3].astype(int))\n"
      ]
    },
    {
      "cell_type": "markdown",
      "id": "a9a73d6b",
      "metadata": {
        "id": "a9a73d6b"
      },
      "source": [
        "#### 35. Рассмотрим массив размерности (5,5,3), как его умножить на массив размерностью (5,5)? (★★★)"
      ]
    },
    {
      "cell_type": "code",
      "execution_count": 66,
      "id": "282a90cc",
      "metadata": {
        "id": "282a90cc"
      },
      "outputs": [
        {
          "data": {
            "text/plain": [
              "array([[[1.06163684, 0.22192247, 0.27903149, 0.72176681, 1.05109071],\n",
              "        [1.43198045, 0.15617882, 0.30887979, 0.83488344, 1.24173921],\n",
              "        [1.42146252, 0.23280287, 0.38860408, 0.82418366, 1.23806638],\n",
              "        [1.72035017, 0.67557206, 0.72515889, 1.25699188, 1.84496461],\n",
              "        [1.32872354, 0.36961139, 0.4314607 , 0.92371232, 1.35102951]],\n",
              "\n",
              "       [[0.67938366, 0.71691714, 0.48230377, 0.82639402, 1.12932209],\n",
              "        [0.40716595, 0.43359855, 0.31313214, 0.4814959 , 0.6462946 ],\n",
              "        [0.67755171, 0.68809358, 0.30868445, 0.92515943, 1.34298429],\n",
              "        [0.54157314, 0.47483271, 0.30286801, 0.55001087, 1.11663351],\n",
              "        [0.48987644, 0.58672357, 0.29670346, 0.77086837, 0.77313188]],\n",
              "\n",
              "       [[0.41490224, 0.04721658, 0.08304824, 0.23791378, 0.39526804],\n",
              "        [1.34417187, 0.15477417, 0.2618297 , 0.8046116 , 1.28144883],\n",
              "        [1.29122576, 0.17707808, 0.24739957, 0.76509632, 1.36521162],\n",
              "        [0.84907346, 0.22604849, 0.11313326, 0.63889803, 1.37883338],\n",
              "        [0.90542094, 0.11641273, 0.16132499, 0.60410437, 0.9060585 ]],\n",
              "\n",
              "       [[0.85218467, 0.44779824, 0.29226113, 0.89567713, 0.94270666],\n",
              "        [0.96660925, 0.64845024, 0.54750721, 0.92353723, 1.1990807 ],\n",
              "        [1.14258432, 0.62975134, 0.52159865, 1.06364916, 1.34719014],\n",
              "        [0.26482663, 0.3704263 , 0.13723502, 0.55706634, 0.30157952],\n",
              "        [0.88027368, 0.63242726, 0.3966333 , 1.04539126, 1.0203366 ]],\n",
              "\n",
              "       [[1.00937961, 0.33284505, 0.21379682, 0.80543486, 1.13537758],\n",
              "        [0.38647548, 0.22355807, 0.09103874, 0.45504124, 0.39572906],\n",
              "        [0.33826112, 0.11093228, 0.06528548, 0.2602726 , 0.44570522],\n",
              "        [1.18120113, 0.43512536, 0.25350843, 1.01071268, 1.32084927],\n",
              "        [0.75788295, 0.23801518, 0.15928232, 0.58644865, 0.8584337 ]]])"
            ]
          },
          "execution_count": 66,
          "metadata": {},
          "output_type": "execute_result"
        }
      ],
      "source": [
        "casted = np.broadcast_to(np.random.rand(5, 5), (3, 5, 5))\n",
        "np.random.rand(5, 5, 3) @ casted.reshape(5, 3, 5)"
      ]
    },
    {
      "cell_type": "markdown",
      "id": "b50adf7c",
      "metadata": {
        "id": "b50adf7c"
      },
      "source": [
        "#### 36. Как вычислить средние значения, используя скользящее окно по массиву? (★★★)"
      ]
    },
    {
      "cell_type": "code",
      "execution_count": 51,
      "id": "e631a9d2",
      "metadata": {
        "id": "e631a9d2"
      },
      "outputs": [
        {
          "data": {
            "text/plain": [
              "array([1., 2., 3.])"
            ]
          },
          "execution_count": 51,
          "metadata": {},
          "output_type": "execute_result"
        }
      ],
      "source": [
        "np.convolve(np.arange(5), np.ones(3) / 3, \"valid\")"
      ]
    },
    {
      "cell_type": "markdown",
      "id": "1ab4c50d",
      "metadata": {
        "id": "1ab4c50d"
      },
      "source": [
        "#### 37. Рассмотрим одномерный массив Z, постройте из него двумерный массив, первая строка которого (Z[0],Z[1],Z[2]), а каждая последующая строка сдвинута на 1 (последняя строка должна быть (Z[ -3],Z[-2],Z[-1]) (★★★)"
      ]
    },
    {
      "cell_type": "code",
      "execution_count": 50,
      "id": "3ccfe2c0",
      "metadata": {
        "id": "3ccfe2c0"
      },
      "outputs": [
        {
          "data": {
            "text/plain": [
              "[array([1, 2, 3]),\n",
              " array([2, 3, 4]),\n",
              " array([3, 4, 5]),\n",
              " array([4, 5, 6]),\n",
              " array([5, 6, 7]),\n",
              " array([6, 7, 8]),\n",
              " array([7, 8, 9]),\n",
              " array([ 8,  9, 10]),\n",
              " array([ 9, 10, 11]),\n",
              " array([10, 11, 12]),\n",
              " array([11, 12, 13]),\n",
              " array([12, 13, 14])]"
            ]
          },
          "execution_count": 50,
          "metadata": {},
          "output_type": "execute_result"
        }
      ],
      "source": [
        "z = np.arange(1, 15)\n",
        "r = [np.arange(i, i + 3) for i in z]\n",
        "r[:-2]"
      ]
    },
    {
      "cell_type": "markdown",
      "id": "e5e7f323",
      "metadata": {
        "id": "e5e7f323"
      },
      "source": [
        "#### 38. Рассмотрим 2 набора точек P0,P1, описывающих линии (2d), и набор точек P. Как вычислить расстояние от каждой точки j (P[j]) до каждой линии i (P0[i],P1[i])?(★★★)"
      ]
    },
    {
      "cell_type": "code",
      "execution_count": 61,
      "id": "d0ce77e2",
      "metadata": {
        "id": "d0ce77e2"
      },
      "outputs": [
        {
          "data": {
            "text/plain": [
              "array([3.12347524, 0.16439899, 4.24264069, 1.        , 0.        ,\n",
              "       0.89442719, 2.44120041, 2.6303838 , 2.        , 0.2773501 ])"
            ]
          },
          "execution_count": 61,
          "metadata": {},
          "output_type": "execute_result"
        }
      ],
      "source": [
        "p0 = np.random.randint(10, size=(10, 2))\n",
        "p1 = np.random.randint(10, size=(10, 2))\n",
        "p = np.random.randint(10, size=(10, 2))\n",
        "\n",
        "x0 = p0[:, 0]\n",
        "y0 = p0[:, 1]\n",
        "\n",
        "x1 = p1[:, 0]\n",
        "y1 = p1[:, 1]\n",
        "\n",
        "x = p[:, 0]\n",
        "y = p[:, 1]\n",
        "\n",
        "np.abs((y1 - y0) * x - (x1 - x0) * y + x1 * y0 - y1 * x0) / np.sqrt((y1 - y0)**2 + (x1 - x0)**2)"
      ]
    },
    {
      "cell_type": "markdown",
      "id": "27794913",
      "metadata": {
        "id": "27794913"
      },
      "source": [
        "#### 39. Рассмотрим массив Z = [1,2,3,4,5,6,7,8,9,10,11,12,13,14], как сгенерировать массив R = [[1,2,3, 4], [2,3,4,5], [3,4,5,6], ..., [11,12,13,14]]? (★★★)"
      ]
    },
    {
      "cell_type": "code",
      "execution_count": 157,
      "id": "f3e7878b",
      "metadata": {
        "id": "f3e7878b"
      },
      "outputs": [
        {
          "data": {
            "text/plain": [
              "[array([1, 2, 3, 4]),\n",
              " array([2, 3, 4, 5]),\n",
              " array([3, 4, 5, 6]),\n",
              " array([4, 5, 6, 7]),\n",
              " array([5, 6, 7, 8]),\n",
              " array([6, 7, 8, 9]),\n",
              " array([ 7,  8,  9, 10]),\n",
              " array([ 8,  9, 10, 11]),\n",
              " array([ 9, 10, 11, 12]),\n",
              " array([10, 11, 12, 13]),\n",
              " array([11, 12, 13, 14])]"
            ]
          },
          "execution_count": 157,
          "metadata": {},
          "output_type": "execute_result"
        }
      ],
      "source": [
        "z = np.arange(1, 15)\n",
        "r = [np.arange(i, i + 4) for i in z]\n",
        "r[:-3]"
      ]
    },
    {
      "cell_type": "markdown",
      "id": "fae786f5",
      "metadata": {
        "id": "fae786f5"
      },
      "source": [
        "#### 40. Найдите ранг случайной матрицы (★★★)"
      ]
    },
    {
      "cell_type": "code",
      "execution_count": 150,
      "id": "64b9615b",
      "metadata": {
        "id": "64b9615b"
      },
      "outputs": [
        {
          "data": {
            "text/plain": [
              "10"
            ]
          },
          "execution_count": 150,
          "metadata": {},
          "output_type": "execute_result"
        }
      ],
      "source": [
        "a = np.random.uniform(0, 1, (10,10))\n",
        "np.linalg.matrix_rank(a)"
      ]
    },
    {
      "cell_type": "markdown",
      "id": "c85aa0b9",
      "metadata": {
        "id": "c85aa0b9"
      },
      "source": [
        "#### 41. Как найти наиболее часто встречающееся значение в массиве?"
      ]
    },
    {
      "cell_type": "code",
      "execution_count": 26,
      "id": "056be85b",
      "metadata": {
        "id": "056be85b"
      },
      "outputs": [
        {
          "name": "stdout",
          "output_type": "stream",
          "text": [
            "[1 0 2 0 1]\n",
            "unique_values = array([0, 1, 2])\n",
            "unique_counts = array([2, 2, 1])\n",
            "[0 1]\n"
          ]
        }
      ],
      "source": [
        "a = np.random.randint(0, 3, 5)\n",
        "unique_values, unique_counts = np.unique(a, return_counts=True)\n",
        "print(a)\n",
        "print(f\"{unique_values = }\")\n",
        "print(f\"{unique_counts = }\")\n",
        "\n",
        "print(unique_values[unique_counts == unique_counts.max()])"
      ]
    },
    {
      "cell_type": "markdown",
      "id": "d614fee4",
      "metadata": {
        "id": "d614fee4"
      },
      "source": [
        "#### 42. Рассмотрим два массива A и B формы (8,3) и (2,2). Как найти строки A, содержащие элементы каждой строки B, независимо от порядка элементов в B? (★★★)"
      ]
    },
    {
      "cell_type": "code",
      "execution_count": 94,
      "id": "e6807a84",
      "metadata": {
        "id": "e6807a84"
      },
      "outputs": [
        {
          "name": "stdout",
          "output_type": "stream",
          "text": [
            "[[[[False False]\n",
            "   [False False]]\n",
            "\n",
            "  [[False  True]\n",
            "   [False False]]\n",
            "\n",
            "  [[False  True]\n",
            "   [False False]]]\n",
            "\n",
            "\n",
            " [[[False  True]\n",
            "   [False False]]\n",
            "\n",
            "  [[False False]\n",
            "   [ True False]]\n",
            "\n",
            "  [[False False]\n",
            "   [False False]]]\n",
            "\n",
            "\n",
            " [[[False False]\n",
            "   [False False]]\n",
            "\n",
            "  [[ True False]\n",
            "   [False  True]]\n",
            "\n",
            "  [[False  True]\n",
            "   [False False]]]\n",
            "\n",
            "\n",
            " [[[ True False]\n",
            "   [False  True]]\n",
            "\n",
            "  [[ True False]\n",
            "   [False  True]]\n",
            "\n",
            "  [[ True False]\n",
            "   [False  True]]]\n",
            "\n",
            "\n",
            " [[[False False]\n",
            "   [False False]]\n",
            "\n",
            "  [[False False]\n",
            "   [False False]]\n",
            "\n",
            "  [[False False]\n",
            "   [ True False]]]\n",
            "\n",
            "\n",
            " [[[False False]\n",
            "   [False False]]\n",
            "\n",
            "  [[False  True]\n",
            "   [False False]]\n",
            "\n",
            "  [[False  True]\n",
            "   [False False]]]\n",
            "\n",
            "\n",
            " [[[False  True]\n",
            "   [False False]]\n",
            "\n",
            "  [[False False]\n",
            "   [False False]]\n",
            "\n",
            "  [[False  True]\n",
            "   [False False]]]\n",
            "\n",
            "\n",
            " [[[False  True]\n",
            "   [False False]]\n",
            "\n",
            "  [[ True False]\n",
            "   [False  True]]\n",
            "\n",
            "  [[False False]\n",
            "   [False False]]]]\n",
            "(array([0, 1, 1, 2, 2, 3, 3, 4, 5, 6, 7, 7]), array([0, 0, 1, 0, 1, 0, 1, 1, 0, 0, 0, 1]))\n",
            "(array([1, 2, 3, 7]),)\n",
            "[1 2 3 7]\n"
          ]
        }
      ],
      "source": [
        "a = np.random.randint(0,5,(8,3))\n",
        "b = np.random.randint(0,5,(2,2))\n",
        "\n",
        "c = (a[..., np.newaxis, np.newaxis] == b)\n",
        "print(c)\n",
        "print(np.where(c.any((3,1))))\n",
        "print(np.where(c.any((3,1)).all(1)))\n",
        "print(np.where(c.any((3,1)).all(1))[0])\n"
      ]
    },
    {
      "cell_type": "markdown",
      "id": "75b9397f",
      "metadata": {
        "id": "75b9397f"
      },
      "source": [
        "#### 43. Как извлечь уникальные значения из 2-х двумерных массивов?(★★★)"
      ]
    },
    {
      "cell_type": "code",
      "execution_count": 47,
      "id": "9bb56a47",
      "metadata": {
        "id": "9bb56a47"
      },
      "outputs": [
        {
          "name": "stdout",
          "output_type": "stream",
          "text": [
            "[0 1 2 3 4 5 6]\n"
          ]
        }
      ],
      "source": [
        "a = np.random.randint(0, 5, (20, 20))\n",
        "b = np.random.randint(3, 7, (20, 20))\n",
        "\n",
        "print(np.union1d(a, b))"
      ]
    },
    {
      "cell_type": "code",
      "execution_count": null,
      "id": "d74e0299",
      "metadata": {},
      "outputs": [],
      "source": []
    }
  ],
  "metadata": {
    "colab": {
      "name": "Numpy_ДЗ.ipynb",
      "provenance": []
    },
    "kernelspec": {
      "display_name": ".venv",
      "language": "python",
      "name": "python3"
    },
    "language_info": {
      "codemirror_mode": {
        "name": "ipython",
        "version": 3
      },
      "file_extension": ".py",
      "mimetype": "text/x-python",
      "name": "python",
      "nbconvert_exporter": "python",
      "pygments_lexer": "ipython3",
      "version": "3.10.8"
    },
    "vscode": {
      "interpreter": {
        "hash": "0c0b687e50cbcd5f36c6eb43292a9903f6a18c5c5db6f3921330348a1abbd040"
      }
    }
  },
  "nbformat": 4,
  "nbformat_minor": 5
}
