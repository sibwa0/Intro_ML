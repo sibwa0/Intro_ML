{
 "cells": [
  {
   "cell_type": "markdown",
   "metadata": {
    "id": "lX-nRkrC3AdF"
   },
   "source": [
    "## Определение целевой переменной **RainTomorrow** "
   ]
  },
  {
   "cell_type": "code",
   "execution_count": 1,
   "metadata": {
    "executionInfo": {
     "elapsed": 285,
     "status": "ok",
     "timestamp": 1649884002152,
     "user": {
      "displayName": "Алексей Склянный",
      "userId": "03667644317238285879"
     },
     "user_tz": -180
    },
    "id": "UjbSqqzi3H91"
   },
   "outputs": [],
   "source": [
    "import warnings\n",
    "warnings.filterwarnings(\"ignore\")\n",
    "import pandas as pd\n",
    "import numpy as np\n",
    "import seaborn as sns\n",
    "import time\n",
    "from sklearn.datasets import make_classification\n",
    "import matplotlib.pyplot as plt\n",
    "%matplotlib notebook"
   ]
  },
  {
   "cell_type": "code",
   "execution_count": 2,
   "metadata": {
    "executionInfo": {
     "elapsed": 436,
     "status": "ok",
     "timestamp": 1649884003721,
     "user": {
      "displayName": "Алексей Склянный",
      "userId": "03667644317238285879"
     },
     "user_tz": -180
    },
    "id": "nfi-1nYW3LC_"
   },
   "outputs": [],
   "source": [
    "data = pd.read_csv('https://raw.githubusercontent.com/vadim0912/MLIntro2022_Spring/main/lecture03/HW2/weather.csv')\n"
   ]
  },
  {
   "cell_type": "code",
   "execution_count": 3,
   "metadata": {
    "executionInfo": {
     "elapsed": 3,
     "status": "ok",
     "timestamp": 1649884004071,
     "user": {
      "displayName": "Алексей Склянный",
      "userId": "03667644317238285879"
     },
     "user_tz": -180
    },
    "id": "SwVDp80b3EGg"
   },
   "outputs": [],
   "source": [
    "from sklearn.linear_model import LogisticRegression\n",
    "from sklearn.model_selection import train_test_split\n",
    "from sklearn.preprocessing import OneHotEncoder\n",
    "from sklearn.metrics import classification_report\n",
    "from sklearn.preprocessing import MinMaxScaler\n",
    "from sklearn.preprocessing import RobustScaler\n",
    "from sklearn.preprocessing import StandardScaler\n",
    "from sklearn.preprocessing import Normalizer"
   ]
  },
  {
   "cell_type": "code",
   "execution_count": 4,
   "metadata": {
    "executionInfo": {
     "elapsed": 2,
     "status": "ok",
     "timestamp": 1649884005205,
     "user": {
      "displayName": "Алексей Склянный",
      "userId": "03667644317238285879"
     },
     "user_tz": -180
    },
    "id": "CxOd0PZZ0K97"
   },
   "outputs": [],
   "source": [
    "ohe = OneHotEncoder(sparse=False)"
   ]
  },
  {
   "cell_type": "code",
   "execution_count": 5,
   "metadata": {
    "executionInfo": {
     "elapsed": 986,
     "status": "ok",
     "timestamp": 1649884007159,
     "user": {
      "displayName": "Алексей Склянный",
      "userId": "03667644317238285879"
     },
     "user_tz": -180
    },
    "id": "xgRp0GZ7lu0h"
   },
   "outputs": [],
   "source": [
    "data = data.drop(\"Unnamed: 0\", axis=1)\n",
    "data = data.drop(\"Cloud9am\", axis=1)\n",
    "data = data.drop(\"Cloud3pm\", axis=1)\n",
    "data = data.drop(\"Evaporation\", axis=1)\n",
    "data = data.drop(\"Sunshine\", axis=1)\n",
    "data[\"Date\"] = data[\"Date\"].apply(lambda x: int(x.replace(\"-\", \"\")))\n",
    "\n",
    "data[\"Location\"] = ohe.fit_transform(data[[\"Location\"]])\n",
    "# data = pd.get_dummies(data, columns=[\"Location\", \"WindGustDir\", \"WindDir9am\", \"WindDir3pm\"])\n",
    "\n",
    "data[\"MinTemp\"] = data[\"MinTemp\"].fillna(data[\"MinTemp\"].mean())\n",
    "data[\"MaxTemp\"] = data[\"MaxTemp\"].fillna(data[\"MaxTemp\"].mean())\n",
    "data[\"Rainfall\"] = data[\"Rainfall\"].fillna(data[\"Rainfall\"].mean())\n",
    "\n",
    "data[\"WindGustSpeed\"] = data[\"WindGustSpeed\"].fillna(data[\"WindGustSpeed\"].mean())\n",
    "data[\"WindSpeed9am\"] = data[\"WindSpeed9am\"].fillna(data[\"WindSpeed9am\"].mean())\n",
    "data[\"WindSpeed3pm\"] = data[\"WindSpeed3pm\"].fillna(data[\"WindSpeed3pm\"].mean())\n",
    "\n",
    "data[\"WindGustDir\"] = ohe.fit_transform(data[[\"WindGustDir\"]])\n",
    "data[\"WindDir3pm\"] = ohe.fit_transform(data[[\"WindDir3pm\"]])\n",
    "data[\"WindDir9am\"] = ohe.fit_transform(data[[\"WindDir9am\"]])\n",
    "\n",
    "data[\"Humidity9am\"] = data[\"Humidity9am\"].fillna(data[\"Humidity9am\"].mean())\n",
    "data[\"Humidity3pm\"] = data[\"Humidity3pm\"].fillna(data[\"Humidity3pm\"].mean())\n",
    "data[\"Pressure9am\"] = data[\"Pressure9am\"].fillna(data[\"Pressure9am\"].mean())\n",
    "data[\"Pressure3pm\"] = data[\"Pressure3pm\"].fillna(data[\"Pressure3pm\"].mean())\n",
    "\n",
    "data[\"Temp9am\"] = data[\"Temp9am\"].fillna(data[\"Temp9am\"].mean())\n",
    "data[\"Temp3pm\"] = data[\"Temp3pm\"].fillna(data[\"Temp3pm\"].mean())\n",
    "data[\"RainToday\"] = data[\"RainToday\"].replace({\"No\": 0, \"Yes\":1})\n",
    "data[\"RainToday\"] = data[\"RainToday\"].fillna(0)  # remake \n",
    "data[\"RainTomorrow\"] = data[\"RainTomorrow\"].replace({\"No\": 0, \"Yes\":1})"
   ]
  },
  {
   "cell_type": "code",
   "execution_count": 6,
   "metadata": {
    "colab": {
     "base_uri": "https://localhost:8080/"
    },
    "executionInfo": {
     "elapsed": 281,
     "status": "ok",
     "timestamp": 1649884007833,
     "user": {
      "displayName": "Алексей Склянный",
      "userId": "03667644317238285879"
     },
     "user_tz": -180
    },
    "id": "vjzbwJ3H1V6l",
    "outputId": "5ae7a8ea-5f1b-4ec4-d6f2-a5ba7a05768a"
   },
   "outputs": [
    {
     "data": {
      "text/plain": [
       "(142193, 21)"
      ]
     },
     "execution_count": 6,
     "metadata": {},
     "output_type": "execute_result"
    }
   ],
   "source": [
    "ohe_features_location = ohe.fit_transform(data[[\"Location\"]])\n",
    "\n",
    "ohe_features_MinTemp = data[[\"MinTemp\"]]\n",
    "ohe_features_MaxTemp = data[[\"MaxTemp\"]]\n",
    "ohe_features_Rainfall = data[[\"Rainfall\"]]\n",
    "\n",
    "ohe_features_WindGustSpeed = data[[\"WindGustSpeed\"]]\n",
    "ohe_features_WindSpeed9am = data[[\"WindSpeed9am\"]]\n",
    "ohe_features_WindSpeed3pm = data[[\"WindSpeed3pm\"]]\n",
    "\n",
    "ohe_features_WindGustDir = ohe.fit_transform(data[[\"WindGustDir\"]])\n",
    "ohe_features_WindDir3pm = ohe.fit_transform(data[[\"WindDir3pm\"]])\n",
    "ohe_features_WindDir9am = ohe.fit_transform(data[[\"WindDir9am\"]])\n",
    "\n",
    "ohe_features_Humidity9am = data[[\"Humidity9am\"]]\n",
    "ohe_features_Humidity3pm = data[[\"Humidity3pm\"]]\n",
    "ohe_features_Pressure9am = data[[\"Pressure9am\"]]\n",
    "ohe_features_Pressure3pm = data[[\"Pressure3pm\"]]\n",
    "ohe_features_Temp9am = data[[\"Temp9am\"]]\n",
    "ohe_features_Temp3pm = data[[\"Temp3pm\"]]\n",
    "ohe_features_RainToday = data[[\"RainToday\"]]\n",
    "\n",
    "X_encoded = np.hstack((ohe_features_location, ohe_features_MinTemp.values,\n",
    "                       ohe_features_MaxTemp.values, ohe_features_Rainfall.values,\n",
    "                       ohe_features_WindGustSpeed.values, ohe_features_WindSpeed9am.values,\n",
    "                       ohe_features_WindSpeed3pm.values, ohe_features_WindGustDir,\n",
    "                       ohe_features_WindDir9am, ohe_features_WindDir3pm,\n",
    "                       ohe_features_Humidity9am.values, ohe_features_Humidity3pm.values,\n",
    "                       ohe_features_Pressure9am.values, ohe_features_Pressure3pm.values,\n",
    "                       ohe_features_Temp9am.values, ohe_features_Temp3pm.values,\n",
    "                       ohe_features_RainToday.values))\n",
    "y = data[\"RainTomorrow\"]\n",
    "X_encoded.shape"
   ]
  },
  {
   "cell_type": "markdown",
   "metadata": {
    "id": "xKlDJYxLq2l5"
   },
   "source": [
    "Choose desired scaler"
   ]
  },
  {
   "cell_type": "code",
   "execution_count": 7,
   "metadata": {
    "executionInfo": {
     "elapsed": 269,
     "status": "ok",
     "timestamp": 1649883858176,
     "user": {
      "displayName": "Алексей Склянный",
      "userId": "03667644317238285879"
     },
     "user_tz": -180
    },
    "id": "xrJlYmqOmncD"
   },
   "outputs": [],
   "source": [
    "mm_scaler = MinMaxScaler()\n",
    "X_encoded = mm_scaler.fit_transform(X_encoded)"
   ]
  },
  {
   "cell_type": "code",
   "execution_count": 8,
   "metadata": {
    "id": "pq4pl_wBqXLe"
   },
   "outputs": [],
   "source": [
    "rs_scaler = RobustScaler()\n",
    "X_encoded = rs_scaler.fit_transform(X_encoded)"
   ]
  },
  {
   "cell_type": "code",
   "execution_count": 9,
   "metadata": {
    "id": "s_NKCaRcqfjA"
   },
   "outputs": [],
   "source": [
    "ss_scaler = StandardScaler()\n",
    "X_encoded = ss_scaler.fit_transform(X_encoded)"
   ]
  },
  {
   "cell_type": "code",
   "execution_count": 10,
   "metadata": {
    "id": "RJRh8VnfqrAl"
   },
   "outputs": [],
   "source": [
    "n_scaler = Normalizer(norm='l2')\n",
    "X_encoded = n_scaler.fit_transform(X_encoded)"
   ]
  },
  {
   "cell_type": "markdown",
   "metadata": {
    "id": "b6EOedmR27uL"
   },
   "source": [
    "# Логистическая регрессия\n",
    "sklearn.linear_model.LogisticRegression"
   ]
  },
  {
   "cell_type": "code",
   "execution_count": 11,
   "metadata": {
    "executionInfo": {
     "elapsed": 286,
     "status": "ok",
     "timestamp": 1649884011883,
     "user": {
      "displayName": "Алексей Склянный",
      "userId": "03667644317238285879"
     },
     "user_tz": -180
    },
    "id": "8OjzwkNIv5nS"
   },
   "outputs": [],
   "source": [
    "X_train, X_test, y_train, y_test = train_test_split(X_encoded, y, test_size=0.25, shuffle=False)"
   ]
  },
  {
   "cell_type": "code",
   "execution_count": 12,
   "metadata": {
    "colab": {
     "base_uri": "https://localhost:8080/"
    },
    "executionInfo": {
     "elapsed": 17503,
     "status": "ok",
     "timestamp": 1649884070244,
     "user": {
      "displayName": "Алексей Склянный",
      "userId": "03667644317238285879"
     },
     "user_tz": -180
    },
    "id": "a7e6eY3d_uAo",
    "outputId": "99d97be7-a70a-4828-f305-b598c0a2f2db"
   },
   "outputs": [],
   "source": [
    "# %%timeit\n",
    "lr = LogisticRegression()\n",
    "lr.fit(X_train, y_train)\n",
    "test_predicted = lr.predict(X_test)"
   ]
  },
  {
   "cell_type": "code",
   "execution_count": 13,
   "metadata": {
    "colab": {
     "base_uri": "https://localhost:8080/"
    },
    "executionInfo": {
     "elapsed": 32,
     "status": "ok",
     "timestamp": 1649884070245,
     "user": {
      "displayName": "Алексей Склянный",
      "userId": "03667644317238285879"
     },
     "user_tz": -180
    },
    "id": "C4_soEbRru4-",
    "outputId": "4b35aae1-0cd1-4966-8c22-985cd3a042e5"
   },
   "outputs": [
    {
     "name": "stdout",
     "output_type": "stream",
     "text": [
      "              precision    recall  f1-score   support\n",
      "\n",
      "           0       0.87      0.96      0.91     27882\n",
      "           1       0.74      0.46      0.57      7667\n",
      "\n",
      "    accuracy                           0.85     35549\n",
      "   macro avg       0.80      0.71      0.74     35549\n",
      "weighted avg       0.84      0.85      0.83     35549\n",
      "\n"
     ]
    }
   ],
   "source": [
    "print(classification_report(y_test, test_predicted))"
   ]
  },
  {
   "cell_type": "markdown",
   "metadata": {
    "id": "thodRWuWayAw"
   },
   "source": [
    "# Метод К-близжайших соседей"
   ]
  },
  {
   "cell_type": "code",
   "execution_count": 14,
   "metadata": {
    "executionInfo": {
     "elapsed": 340,
     "status": "ok",
     "timestamp": 1649882866220,
     "user": {
      "displayName": "Алексей Склянный",
      "userId": "03667644317238285879"
     },
     "user_tz": -180
    },
    "id": "64soD3L7a3EL"
   },
   "outputs": [],
   "source": [
    "from sklearn.neighbors import KNeighborsClassifier\n",
    "from sklearn.metrics import accuracy_score"
   ]
  },
  {
   "cell_type": "code",
   "execution_count": 15,
   "metadata": {
    "colab": {
     "base_uri": "https://localhost:8080/"
    },
    "executionInfo": {
     "elapsed": 484613,
     "status": "ok",
     "timestamp": 1649883677855,
     "user": {
      "displayName": "Алексей Склянный",
      "userId": "03667644317238285879"
     },
     "user_tz": -180
    },
    "id": "uN484aYKa3gM",
    "outputId": "f502af36-eef7-4b0a-b37a-e4e088c87bd1"
   },
   "outputs": [],
   "source": [
    "# %%timeit\n",
    "knc = KNeighborsClassifier(n_neighbors=16)\n",
    "knc.fit(X_train, y_train)\n",
    "test_predicted = knc.predict(X_test)"
   ]
  },
  {
   "cell_type": "code",
   "execution_count": 16,
   "metadata": {
    "colab": {
     "base_uri": "https://localhost:8080/",
     "height": 345
    },
    "executionInfo": {
     "elapsed": 7178,
     "status": "error",
     "timestamp": 1649882877087,
     "user": {
      "displayName": "Алексей Склянный",
      "userId": "03667644317238285879"
     },
     "user_tz": -180
    },
    "id": "nJA2pAhUa5EI",
    "outputId": "1e89bb7a-a215-4326-fcee-e5afdf93f70f"
   },
   "outputs": [
    {
     "name": "stdout",
     "output_type": "stream",
     "text": [
      "              precision    recall  f1-score   support\n",
      "\n",
      "           0       0.86      0.96      0.91     27882\n",
      "           1       0.74      0.43      0.54      7667\n",
      "\n",
      "    accuracy                           0.84     35549\n",
      "   macro avg       0.80      0.69      0.73     35549\n",
      "weighted avg       0.83      0.84      0.83     35549\n",
      "\n"
     ]
    }
   ],
   "source": [
    "print(classification_report(y_test, test_predicted))"
   ]
  },
  {
   "cell_type": "markdown",
   "metadata": {
    "id": "JggVYymEsSr4"
   },
   "source": [
    "Commended code helps us to see, that n_neighbors=16 is optimal value"
   ]
  },
  {
   "cell_type": "code",
   "execution_count": 20,
   "metadata": {
    "executionInfo": {
     "elapsed": 32,
     "status": "ok",
     "timestamp": 1649882431707,
     "user": {
      "displayName": "Алексей Склянный",
      "userId": "03667644317238285879"
     },
     "user_tz": -180
    },
    "id": "alLCU_Hza7B5"
   },
   "outputs": [],
   "source": [
    "# val_scores = list()\n",
    "# for k in np.arange(1, 17, 5):\n",
    "#     knc = KNeighborsClassifier(n_neighbors=k)\n",
    "#     knc.fit(X_train, y_train)\n",
    "#     test_predicted = knc.predict(X_test)\n",
    "#     acc_score = accuracy_score(test_predicted, y_test)\n",
    "\n",
    "#     val_scores.append(acc_score)\n",
    "\n",
    "# plt.plot(np.arange(1, 17, 5), val_scores)\n",
    "# plt.xticks(np.arange(1, 17, 5))\n",
    "# plt.xlabel(\"Neibours number\")\n",
    "# plt.ylabel(\"accuracy_score\")\n",
    "# plt.show()"
   ]
  },
  {
   "cell_type": "markdown",
   "metadata": {
    "id": "JVrAUFDod2Gp"
   },
   "source": [
    "# Байесовский классификатор"
   ]
  },
  {
   "cell_type": "code",
   "execution_count": 21,
   "metadata": {
    "executionInfo": {
     "elapsed": 29,
     "status": "ok",
     "timestamp": 1649882431707,
     "user": {
      "displayName": "Алексей Склянный",
      "userId": "03667644317238285879"
     },
     "user_tz": -180
    },
    "id": "o_AL84Z8d1A_"
   },
   "outputs": [],
   "source": [
    "from sklearn.naive_bayes import GaussianNB"
   ]
  },
  {
   "cell_type": "code",
   "execution_count": 22,
   "metadata": {
    "executionInfo": {
     "elapsed": 416,
     "status": "ok",
     "timestamp": 1649884070634,
     "user": {
      "displayName": "Алексей Склянный",
      "userId": "03667644317238285879"
     },
     "user_tz": -180
    },
    "id": "OgwxJof5felH"
   },
   "outputs": [],
   "source": [
    "# %%timeit\n",
    "gnb = GaussianNB()\n",
    "gnb.fit(X_train, y_train)\n",
    "test_predicted = gnb.predict(X_test)"
   ]
  },
  {
   "cell_type": "code",
   "execution_count": 23,
   "metadata": {
    "colab": {
     "base_uri": "https://localhost:8080/"
    },
    "executionInfo": {
     "elapsed": 284,
     "status": "ok",
     "timestamp": 1649884072226,
     "user": {
      "displayName": "Алексей Склянный",
      "userId": "03667644317238285879"
     },
     "user_tz": -180
    },
    "id": "j4eYe8AEfouW",
    "outputId": "ed5534ec-57e2-4f21-c305-55beb0557a9c"
   },
   "outputs": [
    {
     "name": "stdout",
     "output_type": "stream",
     "text": [
      "              precision    recall  f1-score   support\n",
      "\n",
      "           0       0.89      0.86      0.88     27882\n",
      "           1       0.55      0.63      0.59      7667\n",
      "\n",
      "    accuracy                           0.81     35549\n",
      "   macro avg       0.72      0.74      0.73     35549\n",
      "weighted avg       0.82      0.81      0.81     35549\n",
      "\n"
     ]
    }
   ],
   "source": [
    "print(classification_report(y_test, test_predicted))"
   ]
  },
  {
   "cell_type": "markdown",
   "metadata": {
    "id": "ba1SxfWat4HJ"
   },
   "source": [
    "# Вывод\n",
    "В дз было необходимо сперва провести предобработку данных, что сильно сказывается на построенних и результатах будущей модели.\n",
    "После преобработки  применял поочередно различные методы масштабирования данных (различия в рузьтатах незначительны), где MinMaxScaler проявил себя лучше остальных.\n",
    "Время выполнения наименьшее у логистической регрессии, но результаты хуже, чем у байесовского классификатора. Методо близжайших соседей и самый медленный, и наименее точный."
   ]
  }
 ],
 "metadata": {
  "colab": {
   "authorship_tag": "ABX9TyNtDfhfcPqxg9XnCvHtb3Lw",
   "collapsed_sections": [],
   "name": "hw2.ipynb",
   "provenance": [],
   "toc_visible": true
  },
  "kernelspec": {
   "display_name": "Python 3 (ipykernel)",
   "language": "python",
   "name": "python3"
  },
  "language_info": {
   "codemirror_mode": {
    "name": "ipython",
    "version": 3
   },
   "file_extension": ".py",
   "mimetype": "text/x-python",
   "name": "python",
   "nbconvert_exporter": "python",
   "pygments_lexer": "ipython3",
   "version": "3.10.9"
  },
  "vscode": {
   "interpreter": {
    "hash": "97cc609b13305c559618ec78a438abc56230b9381f827f22d070313b9a1f3777"
   }
  }
 },
 "nbformat": 4,
 "nbformat_minor": 1
}
